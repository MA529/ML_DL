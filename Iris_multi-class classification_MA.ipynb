{
 "cells": [
  {
   "cell_type": "code",
   "execution_count": 6,
   "metadata": {},
   "outputs": [],
   "source": [
    "import numpy as np\n",
    "import pandas as pd\n",
    "import seaborn as sns"
   ]
  },
  {
   "cell_type": "code",
   "execution_count": 7,
   "metadata": {},
   "outputs": [],
   "source": [
    "df = pd.read_csv(\"../DATA/iris.csv\")"
   ]
  },
  {
   "cell_type": "code",
   "execution_count": 8,
   "metadata": {},
   "outputs": [
    {
     "data": {
      "text/html": [
       "<div>\n",
       "<style scoped>\n",
       "    .dataframe tbody tr th:only-of-type {\n",
       "        vertical-align: middle;\n",
       "    }\n",
       "\n",
       "    .dataframe tbody tr th {\n",
       "        vertical-align: top;\n",
       "    }\n",
       "\n",
       "    .dataframe thead th {\n",
       "        text-align: right;\n",
       "    }\n",
       "</style>\n",
       "<table border=\"1\" class=\"dataframe\">\n",
       "  <thead>\n",
       "    <tr style=\"text-align: right;\">\n",
       "      <th></th>\n",
       "      <th>sepal_length</th>\n",
       "      <th>sepal_width</th>\n",
       "      <th>petal_length</th>\n",
       "      <th>petal_width</th>\n",
       "      <th>species</th>\n",
       "    </tr>\n",
       "  </thead>\n",
       "  <tbody>\n",
       "    <tr>\n",
       "      <th>0</th>\n",
       "      <td>5.1</td>\n",
       "      <td>3.5</td>\n",
       "      <td>1.4</td>\n",
       "      <td>0.2</td>\n",
       "      <td>setosa</td>\n",
       "    </tr>\n",
       "    <tr>\n",
       "      <th>1</th>\n",
       "      <td>4.9</td>\n",
       "      <td>3.0</td>\n",
       "      <td>1.4</td>\n",
       "      <td>0.2</td>\n",
       "      <td>setosa</td>\n",
       "    </tr>\n",
       "    <tr>\n",
       "      <th>2</th>\n",
       "      <td>4.7</td>\n",
       "      <td>3.2</td>\n",
       "      <td>1.3</td>\n",
       "      <td>0.2</td>\n",
       "      <td>setosa</td>\n",
       "    </tr>\n",
       "    <tr>\n",
       "      <th>3</th>\n",
       "      <td>4.6</td>\n",
       "      <td>3.1</td>\n",
       "      <td>1.5</td>\n",
       "      <td>0.2</td>\n",
       "      <td>setosa</td>\n",
       "    </tr>\n",
       "    <tr>\n",
       "      <th>4</th>\n",
       "      <td>5.0</td>\n",
       "      <td>3.6</td>\n",
       "      <td>1.4</td>\n",
       "      <td>0.2</td>\n",
       "      <td>setosa</td>\n",
       "    </tr>\n",
       "    <tr>\n",
       "      <th>...</th>\n",
       "      <td>...</td>\n",
       "      <td>...</td>\n",
       "      <td>...</td>\n",
       "      <td>...</td>\n",
       "      <td>...</td>\n",
       "    </tr>\n",
       "    <tr>\n",
       "      <th>145</th>\n",
       "      <td>6.7</td>\n",
       "      <td>3.0</td>\n",
       "      <td>5.2</td>\n",
       "      <td>2.3</td>\n",
       "      <td>virginica</td>\n",
       "    </tr>\n",
       "    <tr>\n",
       "      <th>146</th>\n",
       "      <td>6.3</td>\n",
       "      <td>2.5</td>\n",
       "      <td>5.0</td>\n",
       "      <td>1.9</td>\n",
       "      <td>virginica</td>\n",
       "    </tr>\n",
       "    <tr>\n",
       "      <th>147</th>\n",
       "      <td>6.5</td>\n",
       "      <td>3.0</td>\n",
       "      <td>5.2</td>\n",
       "      <td>2.0</td>\n",
       "      <td>virginica</td>\n",
       "    </tr>\n",
       "    <tr>\n",
       "      <th>148</th>\n",
       "      <td>6.2</td>\n",
       "      <td>3.4</td>\n",
       "      <td>5.4</td>\n",
       "      <td>2.3</td>\n",
       "      <td>virginica</td>\n",
       "    </tr>\n",
       "    <tr>\n",
       "      <th>149</th>\n",
       "      <td>5.9</td>\n",
       "      <td>3.0</td>\n",
       "      <td>5.1</td>\n",
       "      <td>1.8</td>\n",
       "      <td>virginica</td>\n",
       "    </tr>\n",
       "  </tbody>\n",
       "</table>\n",
       "<p>150 rows × 5 columns</p>\n",
       "</div>"
      ],
      "text/plain": [
       "     sepal_length  sepal_width  petal_length  petal_width    species\n",
       "0             5.1          3.5           1.4          0.2     setosa\n",
       "1             4.9          3.0           1.4          0.2     setosa\n",
       "2             4.7          3.2           1.3          0.2     setosa\n",
       "3             4.6          3.1           1.5          0.2     setosa\n",
       "4             5.0          3.6           1.4          0.2     setosa\n",
       "..            ...          ...           ...          ...        ...\n",
       "145           6.7          3.0           5.2          2.3  virginica\n",
       "146           6.3          2.5           5.0          1.9  virginica\n",
       "147           6.5          3.0           5.2          2.0  virginica\n",
       "148           6.2          3.4           5.4          2.3  virginica\n",
       "149           5.9          3.0           5.1          1.8  virginica\n",
       "\n",
       "[150 rows x 5 columns]"
      ]
     },
     "execution_count": 8,
     "metadata": {},
     "output_type": "execute_result"
    }
   ],
   "source": [
    "df"
   ]
  },
  {
   "cell_type": "code",
   "execution_count": 9,
   "metadata": {},
   "outputs": [
    {
     "data": {
      "text/plain": [
       "sepal_length    0\n",
       "sepal_width     0\n",
       "petal_length    0\n",
       "petal_width     0\n",
       "species         0\n",
       "dtype: int64"
      ]
     },
     "execution_count": 9,
     "metadata": {},
     "output_type": "execute_result"
    }
   ],
   "source": [
    "df.isnull().sum()"
   ]
  },
  {
   "cell_type": "code",
   "execution_count": 20,
   "metadata": {},
   "outputs": [
    {
     "data": {
      "text/plain": [
       "<seaborn.axisgrid.PairGrid at 0x1255721d0>"
      ]
     },
     "execution_count": 20,
     "metadata": {},
     "output_type": "execute_result"
    },
    {
     "data": {
      "image/png": "[encoded data removed]",
      "text/plain": [
       "<Figure size 804.75x720 with 20 Axes>"
      ]
     },
     "metadata": {
      "needs_background": "light"
     },
     "output_type": "display_data"
    }
   ],
   "source": [
    "sns.pairplot(df,hue='species')"
   ]
  },
  {
   "cell_type": "code",
   "execution_count": 23,
   "metadata": {},
   "outputs": [
    {
     "data": {
      "text/plain": [
       "<matplotlib.axes._subplots.AxesSubplot at 0x127f3b190>"
      ]
     },
     "execution_count": 23,
     "metadata": {},
     "output_type": "execute_result"
    },
    {
     "data": {
      "image/png": "[encoded data removed]",
      "text/plain": [
       "<Figure size 432x288 with 1 Axes>"
      ]
     },
     "metadata": {
      "needs_background": "light"
     },
     "output_type": "display_data"
    }
   ],
   "source": [
    "sns.countplot(x='species',data=df)"
   ]
  },
  {
   "cell_type": "code",
   "execution_count": 21,
   "metadata": {},
   "outputs": [],
   "source": [
    "X = df.drop('species',axis=1)\n",
    "y = df['species']"
   ]
  },
  {
   "cell_type": "code",
   "execution_count": 22,
   "metadata": {},
   "outputs": [],
   "source": [
    "from sklearn.preprocessing import LabelBinarizer\n",
    "encoder = LabelBinarizer()\n",
    "y = encoder.fit_transform(y)\n",
    "#y"
   ]
  },
  {
   "cell_type": "code",
   "execution_count": 24,
   "metadata": {},
   "outputs": [],
   "source": [
    "from sklearn.model_selection import train_test_split\n",
    "from sklearn.preprocessing import MinMaxScaler"
   ]
  },
  {
   "cell_type": "code",
   "execution_count": 25,
   "metadata": {},
   "outputs": [],
   "source": [
    "X_train, X_test, y_train, y_test = train_test_split(X, y, test_size=0.2, random_state=101)"
   ]
  },
  {
   "cell_type": "code",
   "execution_count": 27,
   "metadata": {},
   "outputs": [],
   "source": [
    "scaler = MinMaxScaler()\n",
    "X_train_scaled = scaler.fit_transform(X_train)\n",
    "X_test_scaled = scaler.transform(X_test)"
   ]
  },
  {
   "cell_type": "code",
   "execution_count": 28,
   "metadata": {},
   "outputs": [],
   "source": [
    "from tensorflow.keras.models import Sequential\n",
    "from tensorflow.keras.layers import Dense"
   ]
  },
  {
   "cell_type": "code",
   "execution_count": 32,
   "metadata": {},
   "outputs": [
    {
     "data": {
      "text/plain": [
       "(150, 5)"
      ]
     },
     "execution_count": 32,
     "metadata": {},
     "output_type": "execute_result"
    }
   ],
   "source": [
    "df.shape"
   ]
  },
  {
   "cell_type": "code",
   "execution_count": 82,
   "metadata": {},
   "outputs": [],
   "source": [
    "model = Sequential()\n",
    "model.add(Dense(units=4,activation='relu'))\n",
    "\n",
    "# Last layer: multi-class classification of 3 species\n",
    "model.add(Dense(units=3,activation='softmax'))\n",
    "\n",
    "model.compile(loss='categorical_crossentropy',optimizer='adam',metrics=['accuracy'])"
   ]
  },
  {
   "cell_type": "code",
   "execution_count": 83,
   "metadata": {},
   "outputs": [],
   "source": [
    "from tensorflow.keras.callbacks import EarlyStopping"
   ]
  },
  {
   "cell_type": "code",
   "execution_count": 84,
   "metadata": {},
   "outputs": [],
   "source": [
    "early_stop = EarlyStopping(monitor='val_loss',mode='min',patience=10)"
   ]
  },
  {
   "cell_type": "code",
   "execution_count": 85,
   "metadata": {},
   "outputs": [
    {
     "name": "stdout",
     "output_type": "stream",
     "text": [
      "Train on 120 samples, validate on 30 samples\n",
      "Epoch 1/300\n",
      "120/120 [==============================] - 0s 4ms/sample - loss: 1.0374 - accuracy: 0.6250 - val_loss: 1.0265 - val_accuracy: 0.6667\n",
      "Epoch 2/300\n",
      "120/120 [==============================] - 0s 129us/sample - loss: 1.0325 - accuracy: 0.6417 - val_loss: 1.0233 - val_accuracy: 0.7000\n",
      "Epoch 3/300\n",
      "120/120 [==============================] - 0s 131us/sample - loss: 1.0281 - accuracy: 0.6167 - val_loss: 1.0203 - val_accuracy: 0.7000\n",
      "Epoch 4/300\n",
      "120/120 [==============================] - 0s 128us/sample - loss: 1.0235 - accuracy: 0.6167 - val_loss: 1.0175 - val_accuracy: 0.6667\n",
      "Epoch 5/300\n",
      "120/120 [==============================] - 0s 137us/sample - loss: 1.0188 - accuracy: 0.6333 - val_loss: 1.0146 - val_accuracy: 0.6333\n",
      "Epoch 6/300\n",
      "120/120 [==============================] - 0s 145us/sample - loss: 1.0149 - accuracy: 0.6250 - val_loss: 1.0118 - val_accuracy: 0.5667\n",
      "Epoch 7/300\n",
      "120/120 [==============================] - 0s 132us/sample - loss: 1.0102 - accuracy: 0.6083 - val_loss: 1.0089 - val_accuracy: 0.6000\n",
      "Epoch 8/300\n",
      "120/120 [==============================] - 0s 143us/sample - loss: 1.0061 - accuracy: 0.6167 - val_loss: 1.0060 - val_accuracy: 0.6000\n",
      "Epoch 9/300\n",
      "120/120 [==============================] - 0s 146us/sample - loss: 1.0016 - accuracy: 0.6417 - val_loss: 1.0032 - val_accuracy: 0.6000\n",
      "Epoch 10/300\n",
      "120/120 [==============================] - 0s 162us/sample - loss: 0.9976 - accuracy: 0.6250 - val_loss: 1.0003 - val_accuracy: 0.6000\n",
      "Epoch 11/300\n",
      "120/120 [==============================] - 0s 147us/sample - loss: 0.9936 - accuracy: 0.6333 - val_loss: 0.9977 - val_accuracy: 0.5667\n",
      "Epoch 12/300\n",
      "120/120 [==============================] - 0s 139us/sample - loss: 0.9895 - accuracy: 0.6583 - val_loss: 0.9951 - val_accuracy: 0.5333\n",
      "Epoch 13/300\n",
      "120/120 [==============================] - 0s 158us/sample - loss: 0.9855 - accuracy: 0.6500 - val_loss: 0.9924 - val_accuracy: 0.5667\n",
      "Epoch 14/300\n",
      "120/120 [==============================] - 0s 134us/sample - loss: 0.9817 - accuracy: 0.6667 - val_loss: 0.9898 - val_accuracy: 0.5333\n",
      "Epoch 15/300\n",
      "120/120 [==============================] - 0s 127us/sample - loss: 0.9782 - accuracy: 0.6750 - val_loss: 0.9875 - val_accuracy: 0.5333\n",
      "Epoch 16/300\n",
      "120/120 [==============================] - 0s 138us/sample - loss: 0.9745 - accuracy: 0.6667 - val_loss: 0.9851 - val_accuracy: 0.5000\n",
      "Epoch 17/300\n",
      "120/120 [==============================] - 0s 134us/sample - loss: 0.9711 - accuracy: 0.6583 - val_loss: 0.9830 - val_accuracy: 0.5333\n",
      "Epoch 18/300\n",
      "120/120 [==============================] - 0s 141us/sample - loss: 0.9680 - accuracy: 0.6583 - val_loss: 0.9810 - val_accuracy: 0.5333\n",
      "Epoch 19/300\n",
      "120/120 [==============================] - 0s 125us/sample - loss: 0.9648 - accuracy: 0.6500 - val_loss: 0.9790 - val_accuracy: 0.5667\n",
      "Epoch 20/300\n",
      "120/120 [==============================] - 0s 130us/sample - loss: 0.9618 - accuracy: 0.6417 - val_loss: 0.9770 - val_accuracy: 0.5667\n",
      "Epoch 21/300\n",
      "120/120 [==============================] - 0s 148us/sample - loss: 0.9585 - accuracy: 0.6667 - val_loss: 0.9748 - val_accuracy: 0.5667\n",
      "Epoch 22/300\n",
      "120/120 [==============================] - 0s 132us/sample - loss: 0.9556 - accuracy: 0.6833 - val_loss: 0.9728 - val_accuracy: 0.5667\n",
      "Epoch 23/300\n",
      "120/120 [==============================] - 0s 133us/sample - loss: 0.9527 - accuracy: 0.6833 - val_loss: 0.9706 - val_accuracy: 0.5667\n",
      "Epoch 24/300\n",
      "120/120 [==============================] - 0s 137us/sample - loss: 0.9498 - accuracy: 0.6833 - val_loss: 0.9686 - val_accuracy: 0.5667\n",
      "Epoch 25/300\n",
      "120/120 [==============================] - 0s 141us/sample - loss: 0.9472 - accuracy: 0.6917 - val_loss: 0.9667 - val_accuracy: 0.5667\n",
      "Epoch 26/300\n",
      "120/120 [==============================] - 0s 145us/sample - loss: 0.9441 - accuracy: 0.6917 - val_loss: 0.9645 - val_accuracy: 0.5667\n",
      "Epoch 27/300\n",
      "120/120 [==============================] - 0s 150us/sample - loss: 0.9415 - accuracy: 0.6917 - val_loss: 0.9622 - val_accuracy: 0.6000\n",
      "Epoch 28/300\n",
      "120/120 [==============================] - 0s 144us/sample - loss: 0.9388 - accuracy: 0.6917 - val_loss: 0.9600 - val_accuracy: 0.6000\n",
      "Epoch 29/300\n",
      "120/120 [==============================] - 0s 145us/sample - loss: 0.9361 - accuracy: 0.6917 - val_loss: 0.9578 - val_accuracy: 0.6000\n",
      "Epoch 30/300\n",
      "120/120 [==============================] - 0s 145us/sample - loss: 0.9335 - accuracy: 0.6917 - val_loss: 0.9556 - val_accuracy: 0.6000\n",
      "Epoch 31/300\n",
      "120/120 [==============================] - 0s 132us/sample - loss: 0.9308 - accuracy: 0.7000 - val_loss: 0.9534 - val_accuracy: 0.6000\n",
      "Epoch 32/300\n",
      "120/120 [==============================] - 0s 175us/sample - loss: 0.9281 - accuracy: 0.7000 - val_loss: 0.9513 - val_accuracy: 0.5667\n",
      "Epoch 33/300\n",
      "120/120 [==============================] - 0s 163us/sample - loss: 0.9254 - accuracy: 0.7000 - val_loss: 0.9490 - val_accuracy: 0.5667\n",
      "Epoch 34/300\n",
      "120/120 [==============================] - 0s 156us/sample - loss: 0.9226 - accuracy: 0.7000 - val_loss: 0.9467 - val_accuracy: 0.5667\n",
      "Epoch 35/300\n",
      "120/120 [==============================] - 0s 148us/sample - loss: 0.9202 - accuracy: 0.7000 - val_loss: 0.9447 - val_accuracy: 0.5667\n",
      "Epoch 36/300\n",
      "120/120 [==============================] - 0s 153us/sample - loss: 0.9173 - accuracy: 0.6917 - val_loss: 0.9424 - val_accuracy: 0.5667\n",
      "Epoch 37/300\n",
      "120/120 [==============================] - 0s 146us/sample - loss: 0.9145 - accuracy: 0.6917 - val_loss: 0.9402 - val_accuracy: 0.5667\n",
      "Epoch 38/300\n",
      "120/120 [==============================] - 0s 138us/sample - loss: 0.9120 - accuracy: 0.6917 - val_loss: 0.9381 - val_accuracy: 0.5667\n",
      "Epoch 39/300\n",
      "120/120 [==============================] - 0s 144us/sample - loss: 0.9090 - accuracy: 0.6917 - val_loss: 0.9357 - val_accuracy: 0.5667\n",
      "Epoch 40/300\n",
      "120/120 [==============================] - 0s 122us/sample - loss: 0.9063 - accuracy: 0.6917 - val_loss: 0.9333 - val_accuracy: 0.5667\n",
      "Epoch 41/300\n",
      "120/120 [==============================] - 0s 118us/sample - loss: 0.9036 - accuracy: 0.6917 - val_loss: 0.9310 - val_accuracy: 0.5667\n",
      "Epoch 42/300\n",
      "120/120 [==============================] - 0s 117us/sample - loss: 0.9007 - accuracy: 0.6917 - val_loss: 0.9285 - val_accuracy: 0.5667\n",
      "Epoch 43/300\n",
      "120/120 [==============================] - 0s 139us/sample - loss: 0.8980 - accuracy: 0.6917 - val_loss: 0.9260 - val_accuracy: 0.6000\n",
      "Epoch 44/300\n",
      "120/120 [==============================] - 0s 124us/sample - loss: 0.8951 - accuracy: 0.6917 - val_loss: 0.9235 - val_accuracy: 0.6000\n",
      "Epoch 45/300\n",
      "120/120 [==============================] - 0s 113us/sample - loss: 0.8924 - accuracy: 0.6917 - val_loss: 0.9211 - val_accuracy: 0.6000\n",
      "Epoch 46/300\n",
      "120/120 [==============================] - 0s 115us/sample - loss: 0.8894 - accuracy: 0.6917 - val_loss: 0.9184 - val_accuracy: 0.6000\n",
      "Epoch 47/300\n",
      "120/120 [==============================] - 0s 125us/sample - loss: 0.8867 - accuracy: 0.6917 - val_loss: 0.9159 - val_accuracy: 0.6000\n",
      "Epoch 48/300\n",
      "120/120 [==============================] - 0s 116us/sample - loss: 0.8837 - accuracy: 0.6917 - val_loss: 0.9133 - val_accuracy: 0.6000\n",
      "Epoch 49/300\n",
      "120/120 [==============================] - 0s 111us/sample - loss: 0.8809 - accuracy: 0.6917 - val_loss: 0.9106 - val_accuracy: 0.6000\n",
      "Epoch 50/300\n",
      "120/120 [==============================] - 0s 111us/sample - loss: 0.8780 - accuracy: 0.6917 - val_loss: 0.9080 - val_accuracy: 0.6000\n",
      "Epoch 51/300\n",
      "120/120 [==============================] - 0s 116us/sample - loss: 0.8751 - accuracy: 0.6917 - val_loss: 0.9053 - val_accuracy: 0.6000\n",
      "Epoch 52/300\n",
      "120/120 [==============================] - 0s 118us/sample - loss: 0.8721 - accuracy: 0.6917 - val_loss: 0.9027 - val_accuracy: 0.6000\n",
      "Epoch 53/300\n",
      "120/120 [==============================] - 0s 106us/sample - loss: 0.8692 - accuracy: 0.6917 - val_loss: 0.9002 - val_accuracy: 0.6000\n",
      "Epoch 54/300\n",
      "120/120 [==============================] - 0s 110us/sample - loss: 0.8662 - accuracy: 0.6917 - val_loss: 0.8975 - val_accuracy: 0.6000\n",
      "Epoch 55/300\n",
      "120/120 [==============================] - 0s 120us/sample - loss: 0.8633 - accuracy: 0.6917 - val_loss: 0.8948 - val_accuracy: 0.6000\n",
      "Epoch 56/300\n"
     ]
    },
    {
     "name": "stdout",
     "output_type": "stream",
     "text": [
      "120/120 [==============================] - 0s 110us/sample - loss: 0.8603 - accuracy: 0.6917 - val_loss: 0.8922 - val_accuracy: 0.6000\n",
      "Epoch 57/300\n",
      "120/120 [==============================] - 0s 109us/sample - loss: 0.8573 - accuracy: 0.6917 - val_loss: 0.8894 - val_accuracy: 0.6000\n",
      "Epoch 58/300\n",
      "120/120 [==============================] - 0s 116us/sample - loss: 0.8542 - accuracy: 0.6917 - val_loss: 0.8865 - val_accuracy: 0.6000\n",
      "Epoch 59/300\n",
      "120/120 [==============================] - 0s 115us/sample - loss: 0.8514 - accuracy: 0.6917 - val_loss: 0.8838 - val_accuracy: 0.6000\n",
      "Epoch 60/300\n",
      "120/120 [==============================] - 0s 114us/sample - loss: 0.8482 - accuracy: 0.6917 - val_loss: 0.8808 - val_accuracy: 0.6000\n",
      "Epoch 61/300\n",
      "120/120 [==============================] - 0s 114us/sample - loss: 0.8452 - accuracy: 0.6917 - val_loss: 0.8776 - val_accuracy: 0.6000\n",
      "Epoch 62/300\n",
      "120/120 [==============================] - 0s 110us/sample - loss: 0.8421 - accuracy: 0.7000 - val_loss: 0.8744 - val_accuracy: 0.6000\n",
      "Epoch 63/300\n",
      "120/120 [==============================] - 0s 111us/sample - loss: 0.8390 - accuracy: 0.7000 - val_loss: 0.8714 - val_accuracy: 0.6000\n",
      "Epoch 64/300\n",
      "120/120 [==============================] - 0s 106us/sample - loss: 0.8359 - accuracy: 0.7000 - val_loss: 0.8684 - val_accuracy: 0.6000\n",
      "Epoch 65/300\n",
      "120/120 [==============================] - 0s 110us/sample - loss: 0.8328 - accuracy: 0.7000 - val_loss: 0.8655 - val_accuracy: 0.6000\n",
      "Epoch 66/300\n",
      "120/120 [==============================] - 0s 118us/sample - loss: 0.8297 - accuracy: 0.7000 - val_loss: 0.8624 - val_accuracy: 0.6333\n",
      "Epoch 67/300\n",
      "120/120 [==============================] - 0s 112us/sample - loss: 0.8266 - accuracy: 0.7000 - val_loss: 0.8594 - val_accuracy: 0.6333\n",
      "Epoch 68/300\n",
      "120/120 [==============================] - 0s 110us/sample - loss: 0.8235 - accuracy: 0.7000 - val_loss: 0.8565 - val_accuracy: 0.6333\n",
      "Epoch 69/300\n",
      "120/120 [==============================] - 0s 110us/sample - loss: 0.8203 - accuracy: 0.7000 - val_loss: 0.8535 - val_accuracy: 0.6333\n",
      "Epoch 70/300\n",
      "120/120 [==============================] - 0s 110us/sample - loss: 0.8171 - accuracy: 0.7000 - val_loss: 0.8506 - val_accuracy: 0.6333\n",
      "Epoch 71/300\n",
      "120/120 [==============================] - 0s 106us/sample - loss: 0.8141 - accuracy: 0.7000 - val_loss: 0.8477 - val_accuracy: 0.6333\n",
      "Epoch 72/300\n",
      "120/120 [==============================] - 0s 112us/sample - loss: 0.8108 - accuracy: 0.7000 - val_loss: 0.8447 - val_accuracy: 0.6333\n",
      "Epoch 73/300\n",
      "120/120 [==============================] - 0s 115us/sample - loss: 0.8076 - accuracy: 0.7000 - val_loss: 0.8417 - val_accuracy: 0.6333\n",
      "Epoch 74/300\n",
      "120/120 [==============================] - 0s 113us/sample - loss: 0.8044 - accuracy: 0.7000 - val_loss: 0.8388 - val_accuracy: 0.6333\n",
      "Epoch 75/300\n",
      "120/120 [==============================] - 0s 112us/sample - loss: 0.8013 - accuracy: 0.7000 - val_loss: 0.8358 - val_accuracy: 0.6333\n",
      "Epoch 76/300\n",
      "120/120 [==============================] - 0s 110us/sample - loss: 0.7979 - accuracy: 0.7000 - val_loss: 0.8327 - val_accuracy: 0.6333\n",
      "Epoch 77/300\n",
      "120/120 [==============================] - 0s 110us/sample - loss: 0.7948 - accuracy: 0.7083 - val_loss: 0.8296 - val_accuracy: 0.6333\n",
      "Epoch 78/300\n",
      "120/120 [==============================] - 0s 105us/sample - loss: 0.7915 - accuracy: 0.7083 - val_loss: 0.8267 - val_accuracy: 0.6333\n",
      "Epoch 79/300\n",
      "120/120 [==============================] - 0s 112us/sample - loss: 0.7885 - accuracy: 0.7083 - val_loss: 0.8240 - val_accuracy: 0.6333\n",
      "Epoch 80/300\n",
      "120/120 [==============================] - 0s 111us/sample - loss: 0.7851 - accuracy: 0.7083 - val_loss: 0.8210 - val_accuracy: 0.6333\n",
      "Epoch 81/300\n",
      "120/120 [==============================] - 0s 113us/sample - loss: 0.7819 - accuracy: 0.7083 - val_loss: 0.8178 - val_accuracy: 0.6333\n",
      "Epoch 82/300\n",
      "120/120 [==============================] - 0s 111us/sample - loss: 0.7787 - accuracy: 0.7083 - val_loss: 0.8148 - val_accuracy: 0.6333\n",
      "Epoch 83/300\n",
      "120/120 [==============================] - 0s 110us/sample - loss: 0.7755 - accuracy: 0.7083 - val_loss: 0.8118 - val_accuracy: 0.6333\n",
      "Epoch 84/300\n",
      "120/120 [==============================] - 0s 107us/sample - loss: 0.7724 - accuracy: 0.7083 - val_loss: 0.8091 - val_accuracy: 0.6333\n",
      "Epoch 85/300\n",
      "120/120 [==============================] - 0s 111us/sample - loss: 0.7691 - accuracy: 0.7083 - val_loss: 0.8061 - val_accuracy: 0.6333\n",
      "Epoch 86/300\n",
      "120/120 [==============================] - 0s 112us/sample - loss: 0.7659 - accuracy: 0.7083 - val_loss: 0.8033 - val_accuracy: 0.6333\n",
      "Epoch 87/300\n",
      "120/120 [==============================] - 0s 112us/sample - loss: 0.7626 - accuracy: 0.7083 - val_loss: 0.8004 - val_accuracy: 0.6333\n",
      "Epoch 88/300\n",
      "120/120 [==============================] - 0s 111us/sample - loss: 0.7595 - accuracy: 0.7083 - val_loss: 0.7973 - val_accuracy: 0.6333\n",
      "Epoch 89/300\n",
      "120/120 [==============================] - 0s 113us/sample - loss: 0.7562 - accuracy: 0.7083 - val_loss: 0.7943 - val_accuracy: 0.6333\n",
      "Epoch 90/300\n",
      "120/120 [==============================] - 0s 110us/sample - loss: 0.7530 - accuracy: 0.7083 - val_loss: 0.7914 - val_accuracy: 0.6333\n",
      "Epoch 91/300\n",
      "120/120 [==============================] - 0s 103us/sample - loss: 0.7498 - accuracy: 0.7083 - val_loss: 0.7886 - val_accuracy: 0.6333\n",
      "Epoch 92/300\n",
      "120/120 [==============================] - 0s 108us/sample - loss: 0.7467 - accuracy: 0.7083 - val_loss: 0.7856 - val_accuracy: 0.6333\n",
      "Epoch 93/300\n",
      "120/120 [==============================] - 0s 111us/sample - loss: 0.7435 - accuracy: 0.7083 - val_loss: 0.7829 - val_accuracy: 0.6000\n",
      "Epoch 94/300\n",
      "120/120 [==============================] - 0s 109us/sample - loss: 0.7403 - accuracy: 0.7083 - val_loss: 0.7799 - val_accuracy: 0.6000\n",
      "Epoch 95/300\n",
      "120/120 [==============================] - 0s 107us/sample - loss: 0.7373 - accuracy: 0.7083 - val_loss: 0.7772 - val_accuracy: 0.6000\n",
      "Epoch 96/300\n",
      "120/120 [==============================] - 0s 107us/sample - loss: 0.7340 - accuracy: 0.7083 - val_loss: 0.7740 - val_accuracy: 0.6000\n",
      "Epoch 97/300\n",
      "120/120 [==============================] - 0s 104us/sample - loss: 0.7309 - accuracy: 0.7083 - val_loss: 0.7711 - val_accuracy: 0.6000\n",
      "Epoch 98/300\n",
      "120/120 [==============================] - 0s 112us/sample - loss: 0.7277 - accuracy: 0.7083 - val_loss: 0.7683 - val_accuracy: 0.6000\n",
      "Epoch 99/300\n",
      "120/120 [==============================] - 0s 112us/sample - loss: 0.7246 - accuracy: 0.7083 - val_loss: 0.7653 - val_accuracy: 0.6000\n",
      "Epoch 100/300\n",
      "120/120 [==============================] - 0s 121us/sample - loss: 0.7214 - accuracy: 0.7083 - val_loss: 0.7624 - val_accuracy: 0.6000\n",
      "Epoch 101/300\n",
      "120/120 [==============================] - 0s 109us/sample - loss: 0.7183 - accuracy: 0.7083 - val_loss: 0.7595 - val_accuracy: 0.6000\n",
      "Epoch 102/300\n",
      "120/120 [==============================] - 0s 107us/sample - loss: 0.7153 - accuracy: 0.7083 - val_loss: 0.7564 - val_accuracy: 0.6000\n",
      "Epoch 103/300\n",
      "120/120 [==============================] - 0s 107us/sample - loss: 0.7121 - accuracy: 0.7083 - val_loss: 0.7535 - val_accuracy: 0.6000\n",
      "Epoch 104/300\n",
      "120/120 [==============================] - 0s 112us/sample - loss: 0.7091 - accuracy: 0.7083 - val_loss: 0.7505 - val_accuracy: 0.6000\n",
      "Epoch 105/300\n",
      "120/120 [==============================] - 0s 111us/sample - loss: 0.7059 - accuracy: 0.7083 - val_loss: 0.7475 - val_accuracy: 0.6333\n",
      "Epoch 106/300\n",
      "120/120 [==============================] - 0s 113us/sample - loss: 0.7029 - accuracy: 0.7083 - val_loss: 0.7446 - val_accuracy: 0.6333\n",
      "Epoch 107/300\n",
      "120/120 [==============================] - 0s 107us/sample - loss: 0.6998 - accuracy: 0.7083 - val_loss: 0.7416 - val_accuracy: 0.6333\n",
      "Epoch 108/300\n",
      "120/120 [==============================] - 0s 106us/sample - loss: 0.6967 - accuracy: 0.7083 - val_loss: 0.7387 - val_accuracy: 0.6333\n",
      "Epoch 109/300\n",
      "120/120 [==============================] - 0s 108us/sample - loss: 0.6938 - accuracy: 0.7083 - val_loss: 0.7358 - val_accuracy: 0.6333\n",
      "Epoch 110/300\n",
      "120/120 [==============================] - 0s 105us/sample - loss: 0.6907 - accuracy: 0.7083 - val_loss: 0.7328 - val_accuracy: 0.6333\n",
      "Epoch 111/300\n"
     ]
    },
    {
     "name": "stdout",
     "output_type": "stream",
     "text": [
      "120/120 [==============================] - 0s 108us/sample - loss: 0.6880 - accuracy: 0.7083 - val_loss: 0.7296 - val_accuracy: 0.6333\n",
      "Epoch 112/300\n",
      "120/120 [==============================] - 0s 111us/sample - loss: 0.6849 - accuracy: 0.7083 - val_loss: 0.7268 - val_accuracy: 0.6333\n",
      "Epoch 113/300\n",
      "120/120 [==============================] - 0s 107us/sample - loss: 0.6818 - accuracy: 0.7083 - val_loss: 0.7242 - val_accuracy: 0.6333\n",
      "Epoch 114/300\n",
      "120/120 [==============================] - 0s 107us/sample - loss: 0.6789 - accuracy: 0.7083 - val_loss: 0.7218 - val_accuracy: 0.6333\n",
      "Epoch 115/300\n",
      "120/120 [==============================] - 0s 101us/sample - loss: 0.6762 - accuracy: 0.7083 - val_loss: 0.7193 - val_accuracy: 0.6000\n",
      "Epoch 116/300\n",
      "120/120 [==============================] - 0s 108us/sample - loss: 0.6732 - accuracy: 0.7083 - val_loss: 0.7163 - val_accuracy: 0.6333\n",
      "Epoch 117/300\n",
      "120/120 [==============================] - 0s 108us/sample - loss: 0.6702 - accuracy: 0.7083 - val_loss: 0.7137 - val_accuracy: 0.6333\n",
      "Epoch 118/300\n",
      "120/120 [==============================] - 0s 108us/sample - loss: 0.6673 - accuracy: 0.7083 - val_loss: 0.7111 - val_accuracy: 0.6000\n",
      "Epoch 119/300\n",
      "120/120 [==============================] - 0s 106us/sample - loss: 0.6645 - accuracy: 0.7083 - val_loss: 0.7085 - val_accuracy: 0.6000\n",
      "Epoch 120/300\n",
      "120/120 [==============================] - 0s 105us/sample - loss: 0.6617 - accuracy: 0.7083 - val_loss: 0.7059 - val_accuracy: 0.6000\n",
      "Epoch 121/300\n",
      "120/120 [==============================] - 0s 104us/sample - loss: 0.6589 - accuracy: 0.7083 - val_loss: 0.7034 - val_accuracy: 0.6000\n",
      "Epoch 122/300\n",
      "120/120 [==============================] - 0s 110us/sample - loss: 0.6561 - accuracy: 0.7083 - val_loss: 0.7009 - val_accuracy: 0.6000\n",
      "Epoch 123/300\n",
      "120/120 [==============================] - 0s 109us/sample - loss: 0.6533 - accuracy: 0.7083 - val_loss: 0.6983 - val_accuracy: 0.6000\n",
      "Epoch 124/300\n",
      "120/120 [==============================] - 0s 110us/sample - loss: 0.6507 - accuracy: 0.7083 - val_loss: 0.6959 - val_accuracy: 0.6000\n",
      "Epoch 125/300\n",
      "120/120 [==============================] - 0s 106us/sample - loss: 0.6478 - accuracy: 0.7083 - val_loss: 0.6933 - val_accuracy: 0.6000\n",
      "Epoch 126/300\n",
      "120/120 [==============================] - 0s 104us/sample - loss: 0.6451 - accuracy: 0.7083 - val_loss: 0.6905 - val_accuracy: 0.6000\n",
      "Epoch 127/300\n",
      "120/120 [==============================] - 0s 111us/sample - loss: 0.6424 - accuracy: 0.7083 - val_loss: 0.6878 - val_accuracy: 0.6000\n",
      "Epoch 128/300\n",
      "120/120 [==============================] - 0s 107us/sample - loss: 0.6398 - accuracy: 0.7083 - val_loss: 0.6852 - val_accuracy: 0.6000\n",
      "Epoch 129/300\n",
      "120/120 [==============================] - 0s 108us/sample - loss: 0.6371 - accuracy: 0.7083 - val_loss: 0.6826 - val_accuracy: 0.6000\n",
      "Epoch 130/300\n",
      "120/120 [==============================] - 0s 113us/sample - loss: 0.6345 - accuracy: 0.7083 - val_loss: 0.6800 - val_accuracy: 0.6000\n",
      "Epoch 131/300\n",
      "120/120 [==============================] - 0s 105us/sample - loss: 0.6319 - accuracy: 0.7083 - val_loss: 0.6773 - val_accuracy: 0.6000\n",
      "Epoch 132/300\n",
      "120/120 [==============================] - 0s 104us/sample - loss: 0.6293 - accuracy: 0.7083 - val_loss: 0.6749 - val_accuracy: 0.6000\n",
      "Epoch 133/300\n",
      "120/120 [==============================] - 0s 109us/sample - loss: 0.6268 - accuracy: 0.7083 - val_loss: 0.6722 - val_accuracy: 0.6000\n",
      "Epoch 134/300\n",
      "120/120 [==============================] - 0s 108us/sample - loss: 0.6243 - accuracy: 0.7083 - val_loss: 0.6696 - val_accuracy: 0.6000\n",
      "Epoch 135/300\n",
      "120/120 [==============================] - 0s 108us/sample - loss: 0.6218 - accuracy: 0.7083 - val_loss: 0.6674 - val_accuracy: 0.6000\n",
      "Epoch 136/300\n",
      "120/120 [==============================] - 0s 106us/sample - loss: 0.6193 - accuracy: 0.7083 - val_loss: 0.6648 - val_accuracy: 0.6000\n",
      "Epoch 137/300\n",
      "120/120 [==============================] - 0s 101us/sample - loss: 0.6168 - accuracy: 0.7083 - val_loss: 0.6627 - val_accuracy: 0.6000\n",
      "Epoch 138/300\n",
      "120/120 [==============================] - 0s 108us/sample - loss: 0.6143 - accuracy: 0.7083 - val_loss: 0.6602 - val_accuracy: 0.6000\n",
      "Epoch 139/300\n",
      "120/120 [==============================] - 0s 112us/sample - loss: 0.6120 - accuracy: 0.7083 - val_loss: 0.6581 - val_accuracy: 0.6000\n",
      "Epoch 140/300\n",
      "120/120 [==============================] - 0s 108us/sample - loss: 0.6096 - accuracy: 0.7083 - val_loss: 0.6561 - val_accuracy: 0.6000\n",
      "Epoch 141/300\n",
      "120/120 [==============================] - 0s 107us/sample - loss: 0.6072 - accuracy: 0.7083 - val_loss: 0.6536 - val_accuracy: 0.6000\n",
      "Epoch 142/300\n",
      "120/120 [==============================] - 0s 106us/sample - loss: 0.6047 - accuracy: 0.7083 - val_loss: 0.6514 - val_accuracy: 0.6000\n",
      "Epoch 143/300\n",
      "120/120 [==============================] - 0s 100us/sample - loss: 0.6024 - accuracy: 0.7083 - val_loss: 0.6494 - val_accuracy: 0.6000\n",
      "Epoch 144/300\n",
      "120/120 [==============================] - 0s 111us/sample - loss: 0.6002 - accuracy: 0.7083 - val_loss: 0.6470 - val_accuracy: 0.6000\n",
      "Epoch 145/300\n",
      "120/120 [==============================] - 0s 108us/sample - loss: 0.5978 - accuracy: 0.7083 - val_loss: 0.6450 - val_accuracy: 0.6000\n",
      "Epoch 146/300\n",
      "120/120 [==============================] - 0s 109us/sample - loss: 0.5955 - accuracy: 0.7083 - val_loss: 0.6427 - val_accuracy: 0.6000\n",
      "Epoch 147/300\n",
      "120/120 [==============================] - 0s 103us/sample - loss: 0.5932 - accuracy: 0.7083 - val_loss: 0.6405 - val_accuracy: 0.6000\n",
      "Epoch 148/300\n",
      "120/120 [==============================] - 0s 106us/sample - loss: 0.5911 - accuracy: 0.7083 - val_loss: 0.6382 - val_accuracy: 0.6000\n",
      "Epoch 149/300\n",
      "120/120 [==============================] - 0s 109us/sample - loss: 0.5888 - accuracy: 0.7083 - val_loss: 0.6360 - val_accuracy: 0.6000\n",
      "Epoch 150/300\n",
      "120/120 [==============================] - 0s 111us/sample - loss: 0.5866 - accuracy: 0.7083 - val_loss: 0.6339 - val_accuracy: 0.6000\n",
      "Epoch 151/300\n",
      "120/120 [==============================] - 0s 110us/sample - loss: 0.5845 - accuracy: 0.7083 - val_loss: 0.6321 - val_accuracy: 0.6000\n",
      "Epoch 152/300\n",
      "120/120 [==============================] - 0s 112us/sample - loss: 0.5823 - accuracy: 0.7083 - val_loss: 0.6300 - val_accuracy: 0.6000\n",
      "Epoch 153/300\n",
      "120/120 [==============================] - 0s 106us/sample - loss: 0.5802 - accuracy: 0.7083 - val_loss: 0.6281 - val_accuracy: 0.6000\n",
      "Epoch 154/300\n",
      "120/120 [==============================] - 0s 105us/sample - loss: 0.5782 - accuracy: 0.7083 - val_loss: 0.6262 - val_accuracy: 0.6000\n",
      "Epoch 155/300\n",
      "120/120 [==============================] - 0s 106us/sample - loss: 0.5761 - accuracy: 0.7083 - val_loss: 0.6241 - val_accuracy: 0.6000\n",
      "Epoch 156/300\n",
      "120/120 [==============================] - 0s 107us/sample - loss: 0.5740 - accuracy: 0.7083 - val_loss: 0.6222 - val_accuracy: 0.6000\n",
      "Epoch 157/300\n",
      "120/120 [==============================] - 0s 111us/sample - loss: 0.5720 - accuracy: 0.7167 - val_loss: 0.6203 - val_accuracy: 0.6000\n",
      "Epoch 158/300\n",
      "120/120 [==============================] - 0s 109us/sample - loss: 0.5700 - accuracy: 0.7167 - val_loss: 0.6183 - val_accuracy: 0.6333\n",
      "Epoch 159/300\n",
      "120/120 [==============================] - 0s 108us/sample - loss: 0.5681 - accuracy: 0.7083 - val_loss: 0.6164 - val_accuracy: 0.6333\n",
      "Epoch 160/300\n",
      "120/120 [==============================] - 0s 103us/sample - loss: 0.5661 - accuracy: 0.7083 - val_loss: 0.6144 - val_accuracy: 0.6333\n",
      "Epoch 161/300\n",
      "120/120 [==============================] - 0s 102us/sample - loss: 0.5642 - accuracy: 0.7083 - val_loss: 0.6130 - val_accuracy: 0.6333\n",
      "Epoch 162/300\n",
      "120/120 [==============================] - 0s 109us/sample - loss: 0.5623 - accuracy: 0.7083 - val_loss: 0.6113 - val_accuracy: 0.6333\n",
      "Epoch 163/300\n",
      "120/120 [==============================] - 0s 117us/sample - loss: 0.5603 - accuracy: 0.7083 - val_loss: 0.6094 - val_accuracy: 0.6333\n",
      "Epoch 164/300\n",
      "120/120 [==============================] - 0s 110us/sample - loss: 0.5585 - accuracy: 0.7083 - val_loss: 0.6074 - val_accuracy: 0.6333\n",
      "Epoch 165/300\n",
      "120/120 [==============================] - 0s 109us/sample - loss: 0.5566 - accuracy: 0.7083 - val_loss: 0.6058 - val_accuracy: 0.6333\n",
      "Epoch 166/300\n"
     ]
    },
    {
     "name": "stdout",
     "output_type": "stream",
     "text": [
      "120/120 [==============================] - 0s 104us/sample - loss: 0.5548 - accuracy: 0.7083 - val_loss: 0.6041 - val_accuracy: 0.6333\n",
      "Epoch 167/300\n",
      "120/120 [==============================] - 0s 106us/sample - loss: 0.5529 - accuracy: 0.7083 - val_loss: 0.6026 - val_accuracy: 0.6333\n",
      "Epoch 168/300\n",
      "120/120 [==============================] - 0s 110us/sample - loss: 0.5512 - accuracy: 0.7083 - val_loss: 0.6009 - val_accuracy: 0.6333\n",
      "Epoch 169/300\n",
      "120/120 [==============================] - 0s 108us/sample - loss: 0.5495 - accuracy: 0.7083 - val_loss: 0.5994 - val_accuracy: 0.6333\n",
      "Epoch 170/300\n",
      "120/120 [==============================] - 0s 110us/sample - loss: 0.5476 - accuracy: 0.7083 - val_loss: 0.5978 - val_accuracy: 0.6333\n",
      "Epoch 171/300\n",
      "120/120 [==============================] - 0s 107us/sample - loss: 0.5458 - accuracy: 0.7083 - val_loss: 0.5960 - val_accuracy: 0.6333\n",
      "Epoch 172/300\n",
      "120/120 [==============================] - 0s 104us/sample - loss: 0.5442 - accuracy: 0.7083 - val_loss: 0.5944 - val_accuracy: 0.6333\n",
      "Epoch 173/300\n",
      "120/120 [==============================] - 0s 111us/sample - loss: 0.5424 - accuracy: 0.7167 - val_loss: 0.5925 - val_accuracy: 0.6333\n",
      "Epoch 174/300\n",
      "120/120 [==============================] - 0s 110us/sample - loss: 0.5408 - accuracy: 0.7167 - val_loss: 0.5908 - val_accuracy: 0.6333\n",
      "Epoch 175/300\n",
      "120/120 [==============================] - 0s 112us/sample - loss: 0.5391 - accuracy: 0.7167 - val_loss: 0.5892 - val_accuracy: 0.6333\n",
      "Epoch 176/300\n",
      "120/120 [==============================] - 0s 109us/sample - loss: 0.5374 - accuracy: 0.7167 - val_loss: 0.5875 - val_accuracy: 0.6333\n",
      "Epoch 177/300\n",
      "120/120 [==============================] - 0s 105us/sample - loss: 0.5358 - accuracy: 0.7167 - val_loss: 0.5856 - val_accuracy: 0.6333\n",
      "Epoch 178/300\n",
      "120/120 [==============================] - 0s 98us/sample - loss: 0.5342 - accuracy: 0.7250 - val_loss: 0.5838 - val_accuracy: 0.6333\n",
      "Epoch 179/300\n",
      "120/120 [==============================] - 0s 111us/sample - loss: 0.5325 - accuracy: 0.7250 - val_loss: 0.5824 - val_accuracy: 0.6333\n",
      "Epoch 180/300\n",
      "120/120 [==============================] - 0s 109us/sample - loss: 0.5309 - accuracy: 0.7250 - val_loss: 0.5808 - val_accuracy: 0.6333\n",
      "Epoch 181/300\n",
      "120/120 [==============================] - 0s 106us/sample - loss: 0.5294 - accuracy: 0.7333 - val_loss: 0.5791 - val_accuracy: 0.6333\n",
      "Epoch 182/300\n",
      "120/120 [==============================] - 0s 108us/sample - loss: 0.5278 - accuracy: 0.7333 - val_loss: 0.5775 - val_accuracy: 0.6333\n",
      "Epoch 183/300\n",
      "120/120 [==============================] - 0s 104us/sample - loss: 0.5262 - accuracy: 0.7333 - val_loss: 0.5761 - val_accuracy: 0.6333\n",
      "Epoch 184/300\n",
      "120/120 [==============================] - 0s 109us/sample - loss: 0.5247 - accuracy: 0.7333 - val_loss: 0.5745 - val_accuracy: 0.6333\n",
      "Epoch 185/300\n",
      "120/120 [==============================] - 0s 110us/sample - loss: 0.5231 - accuracy: 0.7333 - val_loss: 0.5729 - val_accuracy: 0.6333\n",
      "Epoch 186/300\n",
      "120/120 [==============================] - 0s 110us/sample - loss: 0.5216 - accuracy: 0.7333 - val_loss: 0.5715 - val_accuracy: 0.6333\n",
      "Epoch 187/300\n",
      "120/120 [==============================] - 0s 109us/sample - loss: 0.5201 - accuracy: 0.7333 - val_loss: 0.5700 - val_accuracy: 0.6333\n",
      "Epoch 188/300\n",
      "120/120 [==============================] - 0s 107us/sample - loss: 0.5186 - accuracy: 0.7333 - val_loss: 0.5685 - val_accuracy: 0.6333\n",
      "Epoch 189/300\n",
      "120/120 [==============================] - 0s 102us/sample - loss: 0.5171 - accuracy: 0.7333 - val_loss: 0.5667 - val_accuracy: 0.6667\n",
      "Epoch 190/300\n",
      "120/120 [==============================] - 0s 109us/sample - loss: 0.5156 - accuracy: 0.7333 - val_loss: 0.5650 - val_accuracy: 0.6667\n",
      "Epoch 191/300\n",
      "120/120 [==============================] - 0s 114us/sample - loss: 0.5142 - accuracy: 0.7333 - val_loss: 0.5634 - val_accuracy: 0.6667\n",
      "Epoch 192/300\n",
      "120/120 [==============================] - 0s 108us/sample - loss: 0.5128 - accuracy: 0.7333 - val_loss: 0.5620 - val_accuracy: 0.6667\n",
      "Epoch 193/300\n",
      "120/120 [==============================] - 0s 112us/sample - loss: 0.5114 - accuracy: 0.7333 - val_loss: 0.5605 - val_accuracy: 0.6667\n",
      "Epoch 194/300\n",
      "120/120 [==============================] - 0s 108us/sample - loss: 0.5099 - accuracy: 0.7333 - val_loss: 0.5589 - val_accuracy: 0.6667\n",
      "Epoch 195/300\n",
      "120/120 [==============================] - 0s 103us/sample - loss: 0.5087 - accuracy: 0.7333 - val_loss: 0.5572 - val_accuracy: 0.6667\n",
      "Epoch 196/300\n",
      "120/120 [==============================] - 0s 110us/sample - loss: 0.5071 - accuracy: 0.7417 - val_loss: 0.5558 - val_accuracy: 0.6667\n",
      "Epoch 197/300\n",
      "120/120 [==============================] - 0s 114us/sample - loss: 0.5058 - accuracy: 0.7417 - val_loss: 0.5543 - val_accuracy: 0.6667\n",
      "Epoch 198/300\n",
      "120/120 [==============================] - 0s 121us/sample - loss: 0.5044 - accuracy: 0.7417 - val_loss: 0.5530 - val_accuracy: 0.6667\n",
      "Epoch 199/300\n",
      "120/120 [==============================] - 0s 112us/sample - loss: 0.5030 - accuracy: 0.7417 - val_loss: 0.5516 - val_accuracy: 0.6667\n",
      "Epoch 200/300\n",
      "120/120 [==============================] - 0s 105us/sample - loss: 0.5017 - accuracy: 0.7417 - val_loss: 0.5503 - val_accuracy: 0.6667\n",
      "Epoch 201/300\n",
      "120/120 [==============================] - 0s 106us/sample - loss: 0.5003 - accuracy: 0.7500 - val_loss: 0.5490 - val_accuracy: 0.6667\n",
      "Epoch 202/300\n",
      "120/120 [==============================] - 0s 105us/sample - loss: 0.4990 - accuracy: 0.7500 - val_loss: 0.5478 - val_accuracy: 0.6667\n",
      "Epoch 203/300\n",
      "120/120 [==============================] - 0s 107us/sample - loss: 0.4978 - accuracy: 0.7500 - val_loss: 0.5467 - val_accuracy: 0.6667\n",
      "Epoch 204/300\n",
      "120/120 [==============================] - 0s 125us/sample - loss: 0.4965 - accuracy: 0.7500 - val_loss: 0.5451 - val_accuracy: 0.6667\n",
      "Epoch 205/300\n",
      "120/120 [==============================] - 0s 113us/sample - loss: 0.4951 - accuracy: 0.7500 - val_loss: 0.5439 - val_accuracy: 0.6667\n",
      "Epoch 206/300\n",
      "120/120 [==============================] - 0s 112us/sample - loss: 0.4939 - accuracy: 0.7500 - val_loss: 0.5427 - val_accuracy: 0.6667\n",
      "Epoch 207/300\n",
      "120/120 [==============================] - 0s 116us/sample - loss: 0.4926 - accuracy: 0.7500 - val_loss: 0.5411 - val_accuracy: 0.6667\n",
      "Epoch 208/300\n",
      "120/120 [==============================] - 0s 113us/sample - loss: 0.4913 - accuracy: 0.7500 - val_loss: 0.5399 - val_accuracy: 0.6667\n",
      "Epoch 209/300\n",
      "120/120 [==============================] - 0s 115us/sample - loss: 0.4901 - accuracy: 0.7500 - val_loss: 0.5385 - val_accuracy: 0.6667\n",
      "Epoch 210/300\n",
      "120/120 [==============================] - 0s 111us/sample - loss: 0.4888 - accuracy: 0.7500 - val_loss: 0.5370 - val_accuracy: 0.6667\n",
      "Epoch 211/300\n",
      "120/120 [==============================] - 0s 113us/sample - loss: 0.4876 - accuracy: 0.7500 - val_loss: 0.5357 - val_accuracy: 0.6667\n",
      "Epoch 212/300\n",
      "120/120 [==============================] - 0s 116us/sample - loss: 0.4864 - accuracy: 0.7500 - val_loss: 0.5344 - val_accuracy: 0.6667\n",
      "Epoch 213/300\n",
      "120/120 [==============================] - 0s 113us/sample - loss: 0.4851 - accuracy: 0.7500 - val_loss: 0.5331 - val_accuracy: 0.6667\n",
      "Epoch 214/300\n",
      "120/120 [==============================] - 0s 114us/sample - loss: 0.4840 - accuracy: 0.7500 - val_loss: 0.5315 - val_accuracy: 0.6667\n",
      "Epoch 215/300\n",
      "120/120 [==============================] - 0s 111us/sample - loss: 0.4827 - accuracy: 0.7667 - val_loss: 0.5302 - val_accuracy: 0.6667\n",
      "Epoch 216/300\n",
      "120/120 [==============================] - 0s 111us/sample - loss: 0.4816 - accuracy: 0.7667 - val_loss: 0.5290 - val_accuracy: 0.6667\n",
      "Epoch 217/300\n",
      "120/120 [==============================] - 0s 106us/sample - loss: 0.4804 - accuracy: 0.7667 - val_loss: 0.5276 - val_accuracy: 0.6667\n",
      "Epoch 218/300\n",
      "120/120 [==============================] - 0s 115us/sample - loss: 0.4792 - accuracy: 0.7667 - val_loss: 0.5263 - val_accuracy: 0.6667\n",
      "Epoch 219/300\n",
      "120/120 [==============================] - 0s 112us/sample - loss: 0.4780 - accuracy: 0.7667 - val_loss: 0.5251 - val_accuracy: 0.6667\n",
      "Epoch 220/300\n",
      "120/120 [==============================] - 0s 109us/sample - loss: 0.4769 - accuracy: 0.7667 - val_loss: 0.5241 - val_accuracy: 0.6667\n",
      "Epoch 221/300\n"
     ]
    },
    {
     "name": "stdout",
     "output_type": "stream",
     "text": [
      "120/120 [==============================] - 0s 107us/sample - loss: 0.4757 - accuracy: 0.7667 - val_loss: 0.5229 - val_accuracy: 0.6667\n",
      "Epoch 222/300\n",
      "120/120 [==============================] - 0s 110us/sample - loss: 0.4745 - accuracy: 0.7667 - val_loss: 0.5215 - val_accuracy: 0.6667\n",
      "Epoch 223/300\n",
      "120/120 [==============================] - 0s 107us/sample - loss: 0.4734 - accuracy: 0.7667 - val_loss: 0.5202 - val_accuracy: 0.6667\n",
      "Epoch 224/300\n",
      "120/120 [==============================] - 0s 116us/sample - loss: 0.4722 - accuracy: 0.7667 - val_loss: 0.5190 - val_accuracy: 0.7000\n",
      "Epoch 225/300\n",
      "120/120 [==============================] - 0s 114us/sample - loss: 0.4711 - accuracy: 0.7667 - val_loss: 0.5179 - val_accuracy: 0.7000\n",
      "Epoch 226/300\n",
      "120/120 [==============================] - 0s 111us/sample - loss: 0.4700 - accuracy: 0.7667 - val_loss: 0.5166 - val_accuracy: 0.7000\n",
      "Epoch 227/300\n",
      "120/120 [==============================] - 0s 124us/sample - loss: 0.4688 - accuracy: 0.7667 - val_loss: 0.5155 - val_accuracy: 0.7000\n",
      "Epoch 228/300\n",
      "120/120 [==============================] - 0s 112us/sample - loss: 0.4678 - accuracy: 0.7667 - val_loss: 0.5145 - val_accuracy: 0.7000\n",
      "Epoch 229/300\n",
      "120/120 [==============================] - 0s 116us/sample - loss: 0.4667 - accuracy: 0.7667 - val_loss: 0.5132 - val_accuracy: 0.7000\n",
      "Epoch 230/300\n",
      "120/120 [==============================] - 0s 121us/sample - loss: 0.4656 - accuracy: 0.7750 - val_loss: 0.5118 - val_accuracy: 0.7000\n",
      "Epoch 231/300\n",
      "120/120 [==============================] - 0s 135us/sample - loss: 0.4644 - accuracy: 0.7750 - val_loss: 0.5108 - val_accuracy: 0.7000\n",
      "Epoch 232/300\n",
      "120/120 [==============================] - 0s 114us/sample - loss: 0.4634 - accuracy: 0.7750 - val_loss: 0.5095 - val_accuracy: 0.7000\n",
      "Epoch 233/300\n",
      "120/120 [==============================] - 0s 122us/sample - loss: 0.4623 - accuracy: 0.7750 - val_loss: 0.5083 - val_accuracy: 0.7000\n",
      "Epoch 234/300\n",
      "120/120 [==============================] - 0s 121us/sample - loss: 0.4612 - accuracy: 0.7750 - val_loss: 0.5071 - val_accuracy: 0.7333\n",
      "Epoch 235/300\n",
      "120/120 [==============================] - 0s 119us/sample - loss: 0.4602 - accuracy: 0.7750 - val_loss: 0.5061 - val_accuracy: 0.7333\n",
      "Epoch 236/300\n",
      "120/120 [==============================] - 0s 119us/sample - loss: 0.4590 - accuracy: 0.7750 - val_loss: 0.5048 - val_accuracy: 0.7333\n",
      "Epoch 237/300\n",
      "120/120 [==============================] - 0s 129us/sample - loss: 0.4580 - accuracy: 0.7750 - val_loss: 0.5035 - val_accuracy: 0.7333\n",
      "Epoch 238/300\n",
      "120/120 [==============================] - 0s 129us/sample - loss: 0.4569 - accuracy: 0.7750 - val_loss: 0.5024 - val_accuracy: 0.7333\n",
      "Epoch 239/300\n",
      "120/120 [==============================] - 0s 122us/sample - loss: 0.4559 - accuracy: 0.7750 - val_loss: 0.5012 - val_accuracy: 0.7333\n",
      "Epoch 240/300\n",
      "120/120 [==============================] - 0s 128us/sample - loss: 0.4548 - accuracy: 0.7833 - val_loss: 0.5001 - val_accuracy: 0.7333\n",
      "Epoch 241/300\n",
      "120/120 [==============================] - 0s 120us/sample - loss: 0.4538 - accuracy: 0.7917 - val_loss: 0.4988 - val_accuracy: 0.7667\n",
      "Epoch 242/300\n",
      "120/120 [==============================] - 0s 115us/sample - loss: 0.4527 - accuracy: 0.7917 - val_loss: 0.4976 - val_accuracy: 0.7667\n",
      "Epoch 243/300\n",
      "120/120 [==============================] - 0s 111us/sample - loss: 0.4517 - accuracy: 0.7917 - val_loss: 0.4964 - val_accuracy: 0.7667\n",
      "Epoch 244/300\n",
      "120/120 [==============================] - 0s 114us/sample - loss: 0.4507 - accuracy: 0.7917 - val_loss: 0.4952 - val_accuracy: 0.8000\n",
      "Epoch 245/300\n",
      "120/120 [==============================] - ETA: 0s - loss: 0.4673 - accuracy: 0.84 - 0s 114us/sample - loss: 0.4497 - accuracy: 0.8000 - val_loss: 0.4943 - val_accuracy: 0.7667\n",
      "Epoch 246/300\n",
      "120/120 [==============================] - 0s 120us/sample - loss: 0.4486 - accuracy: 0.8000 - val_loss: 0.4931 - val_accuracy: 0.8000\n",
      "Epoch 247/300\n",
      "120/120 [==============================] - 0s 120us/sample - loss: 0.4477 - accuracy: 0.8000 - val_loss: 0.4921 - val_accuracy: 0.8000\n",
      "Epoch 248/300\n",
      "120/120 [==============================] - 0s 126us/sample - loss: 0.4466 - accuracy: 0.8000 - val_loss: 0.4908 - val_accuracy: 0.8333\n",
      "Epoch 249/300\n",
      "120/120 [==============================] - 0s 127us/sample - loss: 0.4457 - accuracy: 0.8000 - val_loss: 0.4895 - val_accuracy: 0.8667\n",
      "Epoch 250/300\n",
      "120/120 [==============================] - 0s 120us/sample - loss: 0.4446 - accuracy: 0.8000 - val_loss: 0.4883 - val_accuracy: 0.8667\n",
      "Epoch 251/300\n",
      "120/120 [==============================] - 0s 121us/sample - loss: 0.4437 - accuracy: 0.8083 - val_loss: 0.4875 - val_accuracy: 0.8667\n",
      "Epoch 252/300\n",
      "120/120 [==============================] - 0s 123us/sample - loss: 0.4425 - accuracy: 0.8083 - val_loss: 0.4863 - val_accuracy: 0.9000\n",
      "Epoch 253/300\n",
      "120/120 [==============================] - 0s 122us/sample - loss: 0.4415 - accuracy: 0.8083 - val_loss: 0.4851 - val_accuracy: 0.9000\n",
      "Epoch 254/300\n",
      "120/120 [==============================] - 0s 117us/sample - loss: 0.4406 - accuracy: 0.8083 - val_loss: 0.4839 - val_accuracy: 0.9333\n",
      "Epoch 255/300\n",
      "120/120 [==============================] - 0s 116us/sample - loss: 0.4396 - accuracy: 0.8167 - val_loss: 0.4828 - val_accuracy: 0.9333\n",
      "Epoch 256/300\n",
      "120/120 [==============================] - 0s 116us/sample - loss: 0.4386 - accuracy: 0.8333 - val_loss: 0.4817 - val_accuracy: 0.9333\n",
      "Epoch 257/300\n",
      "120/120 [==============================] - 0s 116us/sample - loss: 0.4376 - accuracy: 0.8333 - val_loss: 0.4808 - val_accuracy: 0.9333\n",
      "Epoch 258/300\n",
      "120/120 [==============================] - 0s 118us/sample - loss: 0.4368 - accuracy: 0.8250 - val_loss: 0.4800 - val_accuracy: 0.9333\n",
      "Epoch 259/300\n",
      "120/120 [==============================] - 0s 109us/sample - loss: 0.4357 - accuracy: 0.8250 - val_loss: 0.4790 - val_accuracy: 0.9333\n",
      "Epoch 260/300\n",
      "120/120 [==============================] - 0s 121us/sample - loss: 0.4347 - accuracy: 0.8333 - val_loss: 0.4780 - val_accuracy: 0.9333\n",
      "Epoch 261/300\n",
      "120/120 [==============================] - 0s 119us/sample - loss: 0.4338 - accuracy: 0.8333 - val_loss: 0.4771 - val_accuracy: 0.9333\n",
      "Epoch 262/300\n",
      "120/120 [==============================] - 0s 116us/sample - loss: 0.4329 - accuracy: 0.8333 - val_loss: 0.4762 - val_accuracy: 0.9333\n",
      "Epoch 263/300\n",
      "120/120 [==============================] - 0s 113us/sample - loss: 0.4319 - accuracy: 0.8417 - val_loss: 0.4751 - val_accuracy: 0.9333\n",
      "Epoch 264/300\n",
      "120/120 [==============================] - 0s 115us/sample - loss: 0.4309 - accuracy: 0.8417 - val_loss: 0.4742 - val_accuracy: 0.9333\n",
      "Epoch 265/300\n",
      "120/120 [==============================] - 0s 114us/sample - loss: 0.4299 - accuracy: 0.8417 - val_loss: 0.4730 - val_accuracy: 0.9333\n",
      "Epoch 266/300\n",
      "120/120 [==============================] - 0s 114us/sample - loss: 0.4290 - accuracy: 0.8417 - val_loss: 0.4719 - val_accuracy: 0.9333\n",
      "Epoch 267/300\n",
      "120/120 [==============================] - 0s 109us/sample - loss: 0.4281 - accuracy: 0.8417 - val_loss: 0.4708 - val_accuracy: 0.9333\n",
      "Epoch 268/300\n",
      "120/120 [==============================] - 0s 110us/sample - loss: 0.4272 - accuracy: 0.8417 - val_loss: 0.4696 - val_accuracy: 0.9333\n",
      "Epoch 269/300\n",
      "120/120 [==============================] - 0s 115us/sample - loss: 0.4262 - accuracy: 0.8417 - val_loss: 0.4688 - val_accuracy: 0.9333\n",
      "Epoch 270/300\n",
      "120/120 [==============================] - 0s 112us/sample - loss: 0.4252 - accuracy: 0.8417 - val_loss: 0.4679 - val_accuracy: 0.9333\n",
      "Epoch 271/300\n",
      "120/120 [==============================] - 0s 116us/sample - loss: 0.4244 - accuracy: 0.8417 - val_loss: 0.4672 - val_accuracy: 0.9333\n",
      "Epoch 272/300\n",
      "120/120 [==============================] - 0s 115us/sample - loss: 0.4234 - accuracy: 0.8417 - val_loss: 0.4659 - val_accuracy: 0.9333\n",
      "Epoch 273/300\n",
      "120/120 [==============================] - 0s 112us/sample - loss: 0.4225 - accuracy: 0.8417 - val_loss: 0.4650 - val_accuracy: 0.9333\n",
      "Epoch 274/300\n",
      "120/120 [==============================] - 0s 113us/sample - loss: 0.4217 - accuracy: 0.8417 - val_loss: 0.4637 - val_accuracy: 0.9667\n",
      "Epoch 275/300\n",
      "120/120 [==============================] - 0s 104us/sample - loss: 0.4206 - accuracy: 0.8500 - val_loss: 0.4626 - val_accuracy: 0.9667\n"
     ]
    },
    {
     "name": "stdout",
     "output_type": "stream",
     "text": [
      "Epoch 276/300\n",
      "120/120 [==============================] - 0s 113us/sample - loss: 0.4197 - accuracy: 0.8500 - val_loss: 0.4615 - val_accuracy: 0.9667\n",
      "Epoch 277/300\n",
      "120/120 [==============================] - 0s 117us/sample - loss: 0.4189 - accuracy: 0.8500 - val_loss: 0.4604 - val_accuracy: 0.9667\n",
      "Epoch 278/300\n",
      "120/120 [==============================] - 0s 116us/sample - loss: 0.4179 - accuracy: 0.8583 - val_loss: 0.4597 - val_accuracy: 0.9667\n",
      "Epoch 279/300\n",
      "120/120 [==============================] - 0s 129us/sample - loss: 0.4170 - accuracy: 0.8583 - val_loss: 0.4588 - val_accuracy: 0.9667\n",
      "Epoch 280/300\n",
      "120/120 [==============================] - 0s 140us/sample - loss: 0.4161 - accuracy: 0.8583 - val_loss: 0.4577 - val_accuracy: 0.9667\n",
      "Epoch 281/300\n",
      "120/120 [==============================] - 0s 130us/sample - loss: 0.4152 - accuracy: 0.8583 - val_loss: 0.4569 - val_accuracy: 0.9667\n",
      "Epoch 282/300\n",
      "120/120 [==============================] - 0s 144us/sample - loss: 0.4143 - accuracy: 0.8583 - val_loss: 0.4558 - val_accuracy: 0.9667\n",
      "Epoch 283/300\n",
      "120/120 [==============================] - 0s 122us/sample - loss: 0.4134 - accuracy: 0.8583 - val_loss: 0.4548 - val_accuracy: 0.9667\n",
      "Epoch 284/300\n",
      "120/120 [==============================] - 0s 120us/sample - loss: 0.4125 - accuracy: 0.8583 - val_loss: 0.4539 - val_accuracy: 0.9667\n",
      "Epoch 285/300\n",
      "120/120 [==============================] - 0s 123us/sample - loss: 0.4116 - accuracy: 0.8583 - val_loss: 0.4530 - val_accuracy: 0.9667\n",
      "Epoch 286/300\n",
      "120/120 [==============================] - 0s 115us/sample - loss: 0.4108 - accuracy: 0.8583 - val_loss: 0.4518 - val_accuracy: 0.9667\n",
      "Epoch 287/300\n",
      "120/120 [==============================] - 0s 113us/sample - loss: 0.4098 - accuracy: 0.8583 - val_loss: 0.4509 - val_accuracy: 0.9667\n",
      "Epoch 288/300\n",
      "120/120 [==============================] - 0s 111us/sample - loss: 0.4089 - accuracy: 0.8583 - val_loss: 0.4499 - val_accuracy: 0.9667\n",
      "Epoch 289/300\n",
      "120/120 [==============================] - 0s 108us/sample - loss: 0.4080 - accuracy: 0.8667 - val_loss: 0.4489 - val_accuracy: 0.9667\n",
      "Epoch 290/300\n",
      "120/120 [==============================] - 0s 116us/sample - loss: 0.4071 - accuracy: 0.8667 - val_loss: 0.4480 - val_accuracy: 0.9667\n",
      "Epoch 291/300\n",
      "120/120 [==============================] - 0s 119us/sample - loss: 0.4063 - accuracy: 0.8750 - val_loss: 0.4469 - val_accuracy: 0.9667\n",
      "Epoch 292/300\n",
      "120/120 [==============================] - 0s 119us/sample - loss: 0.4054 - accuracy: 0.8750 - val_loss: 0.4460 - val_accuracy: 0.9667\n",
      "Epoch 293/300\n",
      "120/120 [==============================] - 0s 117us/sample - loss: 0.4045 - accuracy: 0.8750 - val_loss: 0.4448 - val_accuracy: 0.9667\n",
      "Epoch 294/300\n",
      "120/120 [==============================] - 0s 118us/sample - loss: 0.4036 - accuracy: 0.8750 - val_loss: 0.4438 - val_accuracy: 0.9667\n",
      "Epoch 295/300\n",
      "120/120 [==============================] - 0s 109us/sample - loss: 0.4027 - accuracy: 0.8750 - val_loss: 0.4426 - val_accuracy: 0.9667\n",
      "Epoch 296/300\n",
      "120/120 [==============================] - 0s 108us/sample - loss: 0.4018 - accuracy: 0.8750 - val_loss: 0.4417 - val_accuracy: 0.9667\n",
      "Epoch 297/300\n",
      "120/120 [==============================] - 0s 106us/sample - loss: 0.4009 - accuracy: 0.8750 - val_loss: 0.4407 - val_accuracy: 0.9667\n",
      "Epoch 298/300\n",
      "120/120 [==============================] - 0s 110us/sample - loss: 0.4001 - accuracy: 0.8750 - val_loss: 0.4400 - val_accuracy: 0.9667\n",
      "Epoch 299/300\n",
      "120/120 [==============================] - 0s 116us/sample - loss: 0.3991 - accuracy: 0.8750 - val_loss: 0.4388 - val_accuracy: 0.9667\n",
      "Epoch 300/300\n",
      "120/120 [==============================] - 0s 115us/sample - loss: 0.3983 - accuracy: 0.8750 - val_loss: 0.4377 - val_accuracy: 0.9667\n"
     ]
    },
    {
     "data": {
      "text/plain": [
       "<tensorflow.python.keras.callbacks.History at 0x14342eb90>"
      ]
     },
     "execution_count": 85,
     "metadata": {},
     "output_type": "execute_result"
    }
   ],
   "source": [
    "model.fit(X_train_scaled,y_train,epochs=300,\n",
    "          validation_data=(X_test_scaled,y_test),\n",
    "          callbacks=[early_stop])"
   ]
  },
  {
   "cell_type": "code",
   "execution_count": 86,
   "metadata": {},
   "outputs": [
    {
     "data": {
      "text/html": [
       "<div>\n",
       "<style scoped>\n",
       "    .dataframe tbody tr th:only-of-type {\n",
       "        vertical-align: middle;\n",
       "    }\n",
       "\n",
       "    .dataframe tbody tr th {\n",
       "        vertical-align: top;\n",
       "    }\n",
       "\n",
       "    .dataframe thead th {\n",
       "        text-align: right;\n",
       "    }\n",
       "</style>\n",
       "<table border=\"1\" class=\"dataframe\">\n",
       "  <thead>\n",
       "    <tr style=\"text-align: right;\">\n",
       "      <th></th>\n",
       "      <th>loss</th>\n",
       "      <th>accuracy</th>\n",
       "      <th>val_loss</th>\n",
       "      <th>val_accuracy</th>\n",
       "    </tr>\n",
       "  </thead>\n",
       "  <tbody>\n",
       "    <tr>\n",
       "      <th>0</th>\n",
       "      <td>1.037403</td>\n",
       "      <td>0.625000</td>\n",
       "      <td>1.026536</td>\n",
       "      <td>0.666667</td>\n",
       "    </tr>\n",
       "    <tr>\n",
       "      <th>1</th>\n",
       "      <td>1.032530</td>\n",
       "      <td>0.641667</td>\n",
       "      <td>1.023294</td>\n",
       "      <td>0.700000</td>\n",
       "    </tr>\n",
       "    <tr>\n",
       "      <th>2</th>\n",
       "      <td>1.028083</td>\n",
       "      <td>0.616667</td>\n",
       "      <td>1.020336</td>\n",
       "      <td>0.700000</td>\n",
       "    </tr>\n",
       "    <tr>\n",
       "      <th>3</th>\n",
       "      <td>1.023480</td>\n",
       "      <td>0.616667</td>\n",
       "      <td>1.017529</td>\n",
       "      <td>0.666667</td>\n",
       "    </tr>\n",
       "    <tr>\n",
       "      <th>4</th>\n",
       "      <td>1.018770</td>\n",
       "      <td>0.633333</td>\n",
       "      <td>1.014569</td>\n",
       "      <td>0.633333</td>\n",
       "    </tr>\n",
       "    <tr>\n",
       "      <th>...</th>\n",
       "      <td>...</td>\n",
       "      <td>...</td>\n",
       "      <td>...</td>\n",
       "      <td>...</td>\n",
       "    </tr>\n",
       "    <tr>\n",
       "      <th>295</th>\n",
       "      <td>0.401814</td>\n",
       "      <td>0.875000</td>\n",
       "      <td>0.441709</td>\n",
       "      <td>0.966667</td>\n",
       "    </tr>\n",
       "    <tr>\n",
       "      <th>296</th>\n",
       "      <td>0.400884</td>\n",
       "      <td>0.875000</td>\n",
       "      <td>0.440710</td>\n",
       "      <td>0.966667</td>\n",
       "    </tr>\n",
       "    <tr>\n",
       "      <th>297</th>\n",
       "      <td>0.400068</td>\n",
       "      <td>0.875000</td>\n",
       "      <td>0.439960</td>\n",
       "      <td>0.966667</td>\n",
       "    </tr>\n",
       "    <tr>\n",
       "      <th>298</th>\n",
       "      <td>0.399137</td>\n",
       "      <td>0.875000</td>\n",
       "      <td>0.438840</td>\n",
       "      <td>0.966667</td>\n",
       "    </tr>\n",
       "    <tr>\n",
       "      <th>299</th>\n",
       "      <td>0.398315</td>\n",
       "      <td>0.875000</td>\n",
       "      <td>0.437731</td>\n",
       "      <td>0.966667</td>\n",
       "    </tr>\n",
       "  </tbody>\n",
       "</table>\n",
       "<p>300 rows × 4 columns</p>\n",
       "</div>"
      ],
      "text/plain": [
       "         loss  accuracy  val_loss  val_accuracy\n",
       "0    1.037403  0.625000  1.026536      0.666667\n",
       "1    1.032530  0.641667  1.023294      0.700000\n",
       "2    1.028083  0.616667  1.020336      0.700000\n",
       "3    1.023480  0.616667  1.017529      0.666667\n",
       "4    1.018770  0.633333  1.014569      0.633333\n",
       "..        ...       ...       ...           ...\n",
       "295  0.401814  0.875000  0.441709      0.966667\n",
       "296  0.400884  0.875000  0.440710      0.966667\n",
       "297  0.400068  0.875000  0.439960      0.966667\n",
       "298  0.399137  0.875000  0.438840      0.966667\n",
       "299  0.398315  0.875000  0.437731      0.966667\n",
       "\n",
       "[300 rows x 4 columns]"
      ]
     },
     "execution_count": 86,
     "metadata": {},
     "output_type": "execute_result"
    }
   ],
   "source": [
    "model_val=pd.DataFrame(model.history.history)\n",
    "model_val"
   ]
  },
  {
   "cell_type": "code",
   "execution_count": 87,
   "metadata": {},
   "outputs": [
    {
     "data": {
      "text/plain": [
       "<matplotlib.axes._subplots.AxesSubplot at 0x143a2d150>"
      ]
     },
     "execution_count": 87,
     "metadata": {},
     "output_type": "execute_result"
    },
    {
     "data": {
      "image/png": "[encoded data removed]",
      "text/plain": [
       "<Figure size 432x288 with 1 Axes>"
      ]
     },
     "metadata": {
      "needs_background": "light"
     },
     "output_type": "display_data"
    }
   ],
   "source": [
    "model_val[['loss','val_loss']].plot()"
   ]
  },
  {
   "cell_type": "code",
   "execution_count": 88,
   "metadata": {},
   "outputs": [
    {
     "data": {
      "text/plain": [
       "<matplotlib.axes._subplots.AxesSubplot at 0x143ac5d90>"
      ]
     },
     "execution_count": 88,
     "metadata": {},
     "output_type": "execute_result"
    },
    {
     "data": {
      "image/png": "[encoded data removed]",
      "text/plain": [
       "<Figure size 432x288 with 1 Axes>"
      ]
     },
     "metadata": {
      "needs_background": "light"
     },
     "output_type": "display_data"
    }
   ],
   "source": [
    "model_val[['accuracy','val_accuracy']].plot()"
   ]
  },
  {
   "cell_type": "code",
   "execution_count": 89,
   "metadata": {},
   "outputs": [],
   "source": [
    "predictions = model.predict_classes(X_test_scaled)"
   ]
  },
  {
   "cell_type": "code",
   "execution_count": 92,
   "metadata": {},
   "outputs": [
    {
     "data": {
      "text/plain": [
       "array([0, 0, 0, 2, 1, 2, 2, 1, 2, 0, 2, 0, 0, 2, 2, 1, 1, 1, 0, 2, 1, 0,\n",
       "       1, 1, 1, 1, 1, 2, 0, 0])"
      ]
     },
     "execution_count": 92,
     "metadata": {},
     "output_type": "execute_result"
    }
   ],
   "source": [
    "predictions"
   ]
  },
  {
   "cell_type": "code",
   "execution_count": 103,
   "metadata": {},
   "outputs": [
    {
     "data": {
      "text/plain": [
       "numpy.ndarray"
      ]
     },
     "execution_count": 103,
     "metadata": {},
     "output_type": "execute_result"
    }
   ],
   "source": [
    "type(y_test)\n",
    "#y_test.dtype"
   ]
  },
  {
   "cell_type": "code",
   "execution_count": 107,
   "metadata": {},
   "outputs": [
    {
     "data": {
      "text/plain": [
       "array([0, 0, 0, 2, 1, 2, 1, 1, 2, 0, 2, 0, 0, 2, 2, 1, 1, 1, 0, 2, 1, 0,\n",
       "       1, 1, 1, 1, 1, 2, 0, 0])"
      ]
     },
     "execution_count": 107,
     "metadata": {},
     "output_type": "execute_result"
    }
   ],
   "source": [
    "y_yest_cat = np.argmax(y_test, axis=1)\n",
    "y_yest_cat"
   ]
  },
  {
   "cell_type": "code",
   "execution_count": 90,
   "metadata": {},
   "outputs": [],
   "source": [
    "from sklearn.metrics import classification_report"
   ]
  },
  {
   "cell_type": "code",
   "execution_count": 108,
   "metadata": {},
   "outputs": [
    {
     "name": "stdout",
     "output_type": "stream",
     "text": [
      "              precision    recall  f1-score   support\n",
      "\n",
      "           0       1.00      1.00      1.00        10\n",
      "           1       1.00      0.92      0.96        12\n",
      "           2       0.89      1.00      0.94         8\n",
      "\n",
      "    accuracy                           0.97        30\n",
      "   macro avg       0.96      0.97      0.97        30\n",
      "weighted avg       0.97      0.97      0.97        30\n",
      "\n"
     ]
    }
   ],
   "source": [
    "print(classification_report(y_yest_cat,predictions))"
   ]
  },
  {
   "cell_type": "code",
   "execution_count": 112,
   "metadata": {},
   "outputs": [
    {
     "name": "stdout",
     "output_type": "stream",
     "text": [
      "single_prediction =  0\n",
      "real_label =  0\n"
     ]
    }
   ],
   "source": [
    "single_prediction = model.predict_classes(X_test_scaled)[0]\n",
    "print('single_prediction = ',single_prediction,end='\\n')\n",
    "print('real_label = ',y_yest_cat[0])"
   ]
  },
  {
   "cell_type": "code",
   "execution_count": null,
   "metadata": {},
   "outputs": [],
   "source": []
  }
 ],
 "metadata": {
  "kernelspec": {
   "display_name": "Python 3",
   "language": "python",
   "name": "python3"
  },
  "language_info": {
   "codemirror_mode": {
    "name": "ipython",
    "version": 3
   },
   "file_extension": ".py",
   "mimetype": "text/x-python",
   "name": "python",
   "nbconvert_exporter": "python",
   "pygments_lexer": "ipython3",
   "version": "3.7.9"
  }
 },
 "nbformat": 4,
 "nbformat_minor": 4
}
